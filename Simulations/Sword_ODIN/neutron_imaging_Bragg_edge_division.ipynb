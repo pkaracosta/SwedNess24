{
 "cells": [
  {
   "cell_type": "code",
   "execution_count": null,
   "id": "8c863a4e",
   "metadata": {
    "deletable": false,
    "editable": false
   },
   "outputs": [],
   "source": [
    "import matplotlib.pylab as plt\n",
    "import numpy as np\n",
    "import math as ma"
   ]
  },
  {
   "cell_type": "code",
   "execution_count": null,
   "id": "f27d3f0c",
   "metadata": {
    "deletable": false,
    "editable": false
   },
   "outputs": [],
   "source": [
    "data_short = np.loadtxt(\"back_up_data/data_short.dat\",comments='#',max_rows=300)\n",
    "data_long = np.loadtxt(\"back_up_data/data_long.dat\",comments='#',max_rows=300)"
   ]
  },
  {
   "cell_type": "code",
   "execution_count": null,
   "id": "6a4a0551",
   "metadata": {
    "deletable": false,
    "editable": false
   },
   "outputs": [],
   "source": [
    "plt.clf()\n",
    "fig, (ax1) = plt.subplots(1, 1, figsize=(12, 12))\n",
    "\n",
    "\n",
    "data = np.divide(data_short,data_long)\n",
    "ax1.imshow(np.log(data))\n",
    "\n",
    "ax1.set_xticks([])\n",
    "ax1.set_yticks([])\n",
    "plt.show();"
   ]
  },
  {
   "cell_type": "markdown",
   "id": "4d00da29",
   "metadata": {
    "deletable": false,
    "editable": false
   },
   "source": [
    "If you wish to save the figure you produced, in the code cell below set:\n",
    "\n",
    "save_plot=<font color='green'>**True**</font>"
   ]
  },
  {
   "cell_type": "code",
   "execution_count": null,
   "id": "84056c80",
   "metadata": {},
   "outputs": [],
   "source": [
    "save_plot=False # Replace False with True if you wish to save the figure\n",
    "\n",
    "if save_plot:\n",
    "    plt.savefig(\"final_data.png\")"
   ]
  }
 ],
 "metadata": {
  "kernelspec": {
   "display_name": "Python 3 (ipykernel)",
   "language": "python",
   "name": "python3"
  },
  "language_info": {
   "codemirror_mode": {
    "name": "ipython",
    "version": 3
   },
   "file_extension": ".py",
   "mimetype": "text/x-python",
   "name": "python",
   "nbconvert_exporter": "python",
   "pygments_lexer": "ipython3",
   "version": "3.9.12"
  }
 },
 "nbformat": 4,
 "nbformat_minor": 5
}
