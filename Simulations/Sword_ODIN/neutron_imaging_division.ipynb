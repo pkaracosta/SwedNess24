{
 "cells": [
  {
   "cell_type": "code",
   "execution_count": null,
   "id": "28b10b5d",
   "metadata": {
    "deletable": false,
    "editable": false
   },
   "outputs": [],
   "source": [
    "import matplotlib.pylab as plt\n",
    "import numpy as np\n",
    "import math as ma"
   ]
  },
  {
   "cell_type": "markdown",
   "id": "a4810dbd",
   "metadata": {},
   "source": [
    "This programme needs two files to execute the division. Place your data files (data.dat and background.dat) in the folder named my_data.\n",
    "\n",
    "- If you have simulated the required data, rename and place them in the folder <font color='red'>my_data</font>. In the code cell below, set:\n",
    "\n",
    "my_own_data=<font color='green'>**True**</font> \n",
    "\n",
    "- If not, you can use back up data. To do that, set the cell below to:\n",
    "\n",
    "my_own_data=<font color='green'>**False**</font>"
   ]
  },
  {
   "cell_type": "code",
   "execution_count": null,
   "id": "0739f646",
   "metadata": {},
   "outputs": [],
   "source": [
    "my_own_data= # Write True to use your own data or False to use the back up data"
   ]
  },
  {
   "cell_type": "code",
   "execution_count": null,
   "id": "cc059d78",
   "metadata": {
    "deletable": false,
    "editable": false
   },
   "outputs": [],
   "source": [
    "if my_own_data:\n",
    "    data_long = np.loadtxt(\"my_data/data.dat\",comments='#',max_rows=300)\n",
    "    background_long = np.loadtxt(\"my_data/background.dat\",comments='#',max_rows=300)\n",
    "else:\n",
    "    data_long = np.loadtxt(\"back_up_data/data.dat\",comments='#',max_rows=300)\n",
    "    background_long = np.loadtxt(\"back_up_data/background.dat\",comments='#',max_rows=300)"
   ]
  },
  {
   "cell_type": "code",
   "execution_count": null,
   "id": "07d69469",
   "metadata": {
    "deletable": false,
    "editable": false
   },
   "outputs": [],
   "source": [
    "cleaned_date_long = np.divide(data_long,background_long)"
   ]
  },
  {
   "cell_type": "code",
   "execution_count": null,
   "id": "086b1717",
   "metadata": {
    "deletable": false,
    "editable": false
   },
   "outputs": [],
   "source": [
    "plt.clf()\n",
    "fig, (ax1,ax2,ax3) = plt.subplots(1, 3, figsize=(16, 8))\n",
    "\n",
    "ax1.imshow(background_long)\n",
    "ax2.imshow(data_long)\n",
    "ax3.imshow(cleaned_date_long)\n",
    "\n",
    "for ax in [ax1,ax2,ax3]:\n",
    "    ax.set_yticks([])\n",
    "    ax.set_xticks([])\n",
    "\n",
    "ax1.set_title(\"open shutter\")\n",
    "ax2.set_title(\"object\")\n",
    "ax3.set_title(\"cleaned image\")\n",
    "plt.show();"
   ]
  },
  {
   "cell_type": "markdown",
   "id": "a09a38b9",
   "metadata": {},
   "source": [
    "If you wish to save the figure you produced, in the code cell below set:\n",
    "\n",
    "save_plot=<font color='green'>**True**</font>"
   ]
  },
  {
   "cell_type": "code",
   "execution_count": null,
   "id": "cd741113",
   "metadata": {},
   "outputs": [],
   "source": [
    "save_plot=False # Replace False with True if you wish to save the figure\n",
    "\n",
    "if save_plot:\n",
    "    plt.savefig(\"cleaned_data.png\")"
   ]
  }
 ],
 "metadata": {
  "kernelspec": {
   "display_name": "Python 3 (ipykernel)",
   "language": "python",
   "name": "python3"
  },
  "language_info": {
   "codemirror_mode": {
    "name": "ipython",
    "version": 3
   },
   "file_extension": ".py",
   "mimetype": "text/x-python",
   "name": "python",
   "nbconvert_exporter": "python",
   "pygments_lexer": "ipython3",
   "version": "3.9.12"
  }
 },
 "nbformat": 4,
 "nbformat_minor": 5
}
